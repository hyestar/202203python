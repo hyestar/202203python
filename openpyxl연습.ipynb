{
 "cells": [
  {
   "cell_type": "code",
   "execution_count": 26,
   "metadata": {},
   "outputs": [
    {
     "name": "stdout",
     "output_type": "stream",
     "text": [
      "1\n",
      "2\n",
      "3\n",
      "4\n",
      "5\n",
      "6\n"
     ]
    }
   ],
   "source": [
    "# 모듈 import해옴.\n",
    "from openpyxl import *\n",
    "\n",
    "\n",
    "#  엑셀 추가\n",
    "w1 = Workbook()\n",
    "ws = w1.active\n",
    "#  엑셀 저장\n",
    "w1.save(\"test.xlsx\")\n",
    "\n",
    "#  엑셀 로드\n",
    "w2 = load_workbook(\"test.xlsx\")\n",
    "ws2 = w2.active\n",
    "#  셀을 선택해서 편집\n",
    "ws2[\"A1\"] = \"hello\"   # 단일 셀\n",
    "w2.save(\"test.xlsx\")\n",
    "ws2[\"D3\"] = \"hahaha\"\n",
    "w2.save(\"test.xlsx\")\n",
    "\n",
    "num = 'aaa'\n",
    "for row in ws2[\"A1\":\"C3\"]:  # 셀 영역\n",
    "    for cell in row :\n",
    "        cell.value = num\n",
    "w2.save(\"test.xlsx\")\n",
    "num = 1\n",
    "for row in ws2[\"A1\":\"C3\"]:\n",
    "    for cell in row:\n",
    "        cell.value = num\n",
    "        num+=1\n",
    "w2.save(\"test.xlsx\")\n",
    "#  원하는 만큼 셀을 조회\n",
    "for row in ws2.iter_rows(min_row=1, min_col=1, max_col=3, max_row=2):\n",
    "    for cell in row:\n",
    "       print(cell.value)\n",
    "\n",
    "# 신규 엑셀 시트 생성\n",
    "# 새로운 엑셀 시트는 가장 마지막 탭에 생성된다.\n",
    "ws_new = w2.create_sheet()\n",
    "# 시트 이름 변경\n",
    "ws2.title = \"1번시트\"\n",
    "ws_new.title = \"2번시트\"\n",
    "# 원하는 위치에 원하는 이름의 시트를 생성하는 방법\n",
    "ws2_new = w2.create_sheet(\"0번시트\",0)\n",
    "w2.save(\"test.xlsx\")\n"
   ]
  },
  {
   "cell_type": "code",
   "execution_count": null,
   "metadata": {},
   "outputs": [],
   "source": [
    "# 리스트와 튜플 차이\n",
    "list1 = [1,2,3,4]\n",
    "tuple1 = (1,2,3,4)\n",
    "print(list1[0])\n",
    "print(tuple1[0])\n",
    "list1[0] = 0    # 리스트는 수정 가능\n",
    "print(list1[0])\n",
    "tuple1[0] = 0   # 튜플은 수정 불가능\n",
    "print(tuple1[0])"
   ]
  },
  {
   "cell_type": "code",
   "execution_count": null,
   "metadata": {},
   "outputs": [],
   "source": []
  }
 ],
 "metadata": {
  "interpreter": {
   "hash": "4e0b39fdc4f2df2992ef135d097972ec225e019845a073717c5b1bc8df292c8a"
  },
  "kernelspec": {
   "display_name": "Python 3.10.2 64-bit",
   "language": "python",
   "name": "python3"
  },
  "language_info": {
   "codemirror_mode": {
    "name": "ipython",
    "version": 3
   },
   "file_extension": ".py",
   "mimetype": "text/x-python",
   "name": "python",
   "nbconvert_exporter": "python",
   "pygments_lexer": "ipython3",
   "version": "3.10.2"
  },
  "orig_nbformat": 4
 },
 "nbformat": 4,
 "nbformat_minor": 2
}
