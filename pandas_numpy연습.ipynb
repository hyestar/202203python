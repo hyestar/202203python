{
 "cells": [
  {
   "cell_type": "code",
   "execution_count": 3,
   "metadata": {},
   "outputs": [
    {
     "name": "stdout",
     "output_type": "stream",
     "text": [
      "0    1.5\n",
      "1    3.0\n",
      "2    5.3\n",
      "3    7.2\n",
      "4    9.0\n",
      "dtype: float64\n",
      "a    1.5\n",
      "b    3.0\n",
      "c    5.3\n",
      "d    7.2\n",
      "e    9.0\n",
      "dtype: float64\n"
     ]
    }
   ],
   "source": [
    "# Pandas의 기본 객체 \n",
    "# series => 1차원 어레이, DataFrame => 2차원 어레이\n",
    "import pandas as pd\n",
    "s = pd.Series([1.5,3,5.3,7.2,9])\n",
    "print(s)\n"
   ]
  },
  {
   "cell_type": "code",
   "execution_count": 5,
   "metadata": {},
   "outputs": [
    {
     "name": "stdout",
     "output_type": "stream",
     "text": [
      "a    1.5\n",
      "b    3.0\n",
      "c    5.3\n",
      "d    7.2\n",
      "e    9.0\n",
      "dtype: float64\n"
     ]
    }
   ],
   "source": [
    "# 인덱스 지정\n",
    "import pandas as pd\n",
    "s = pd.Series([1.5,3,5.3,7.2,9], index=['a','b', 'c','d','e'])\n",
    "print(s)"
   ]
  },
  {
   "cell_type": "code",
   "execution_count": 9,
   "metadata": {},
   "outputs": [
    {
     "name": "stdout",
     "output_type": "stream",
     "text": [
      "[1 2 3]\n",
      "[0. 0. 0.]\n",
      "[[1. 1. 1.]\n",
      " [1. 1. 1.]]\n"
     ]
    }
   ],
   "source": [
    "import numpy as np\n",
    "a = np.array([1,2,3])\n",
    "print(a)\n",
    "\n",
    "# 0으로 채워진 어레이 만들기\n",
    "b = np.zeros(3)\n",
    "print(b)\n",
    "# 1로만 채워진 어레이 만들기\n",
    "c = np.ones((2,3))\n",
    "print(c)"
   ]
  },
  {
   "cell_type": "code",
   "execution_count": 13,
   "metadata": {},
   "outputs": [
    {
     "name": "stdout",
     "output_type": "stream",
     "text": [
      "[5. 5. 5. 5.]\n",
      "[4. 6. 6. 4.]\n",
      "2.5\n"
     ]
    }
   ],
   "source": [
    "import numpy as np\n",
    "a = np.array([1.,2.,3.,4.])\n",
    "b = np.array([4.,3.,2.,1.])\n",
    "# 요소별 합\n",
    "print(np.add(a,b))\n",
    "# 요소별 곱\n",
    "print(np.multiply(a,b))\n",
    "# 어레이 값의 평균\n",
    "print(np.mean(a))"
   ]
  },
  {
   "cell_type": "code",
   "execution_count": 15,
   "metadata": {},
   "outputs": [
    {
     "name": "stdout",
     "output_type": "stream",
     "text": [
      "[[0.52068407 0.99434676 0.60379027 0.12014538 0.6339095 ]\n",
      " [0.63677129 0.0980734  0.25915863 0.13811222 0.35052044]]\n",
      "[[ 0.74226064 -0.03906425  0.76164758  0.43634985 -2.92675092]\n",
      " [ 1.45698623  1.14897934  0.04667762  1.207224    0.32230687]]\n"
     ]
    }
   ],
   "source": [
    "import numpy as np\n",
    "# 0과 1범위에서 균일한 분포를 갖는 숫자들 샘플링\n",
    "a = np.random.rand(2,5)\n",
    "print(a)\n",
    "# 표준정규분포를 갖는 숫자들을 샘플링\n",
    "b = np.random.randn(2,5)\n",
    "print(b)"
   ]
  },
  {
   "cell_type": "code",
   "execution_count": 17,
   "metadata": {},
   "outputs": [
    {
     "name": "stdout",
     "output_type": "stream",
     "text": [
      "3.141592653589793\n",
      "2.718281828459045\n"
     ]
    }
   ],
   "source": [
    "import numpy as np\n",
    "# 파이\n",
    "a = np.pi\n",
    "print(a)\n",
    "# 오일러 상수\n",
    "b = np.e\n",
    "print(b)"
   ]
  },
  {
   "cell_type": "code",
   "execution_count": 21,
   "metadata": {},
   "outputs": [
    {
     "name": "stdout",
     "output_type": "stream",
     "text": [
      "<class 'numpy.ndarray'>\n",
      "[1.2 2.  3.  4. ]\n",
      "float64\n"
     ]
    }
   ],
   "source": [
    "import numpy as np\n",
    "a = np.array([1.2,2,3,4])\n",
    "print(type(a))\n",
    "print(a)\n",
    "print(a.dtype)"
   ]
  },
  {
   "cell_type": "code",
   "execution_count": 25,
   "metadata": {},
   "outputs": [
    {
     "name": "stdout",
     "output_type": "stream",
     "text": [
      "[[1.+0.j 3.+0.j 4.+0.j]\n",
      " [2.+0.j 3.+0.j 4.+0.j]\n",
      " [3.+0.j 5.+0.j 8.+0.j]]\n"
     ]
    }
   ],
   "source": [
    "import numpy as np\n",
    "a = np.array([(1,3,4),(2,3,4),(3,5,8)], dtype = complex)\n",
    "print(a)"
   ]
  },
  {
   "cell_type": "code",
   "execution_count": 28,
   "metadata": {},
   "outputs": [
    {
     "name": "stdout",
     "output_type": "stream",
     "text": [
      "   과목번호  과목명\n",
      "0     1   수학\n",
      "1     2   과학\n",
      "2     3  파이썬\n"
     ]
    },
    {
     "name": "stderr",
     "output_type": "stream",
     "text": [
      "C:\\Users\\ADMINI~1\\AppData\\Local\\Temp/ipykernel_5608/2613182555.py:13: FutureWarning: As the xlwt package is no longer maintained, the xlwt engine will be removed in a future version of pandas. This is the only engine in pandas that supports writing in the xls format. Install openpyxl and write to an xlsx file instead. You can set the option io.excel.xls.writer to 'xlwt' to silence this warning. While this option is deprecated and will also raise a warning, it can be globally set and the warning suppressed.\n",
      "  subject.to_excel(\"C:\\py_test\\subject.xls\", index=False)\n"
     ]
    }
   ],
   "source": [
    "import pandas as pd\n",
    "no = []\n",
    "sjname = ['수학','과학','파이썬']\n",
    "no.append(1)\n",
    "no.append(2)\n",
    "no.append(3)\n",
    "\n",
    "subject = pd.DataFrame()\n",
    "subject['과목번호']=no\n",
    "subject['과목명']=sjname\n",
    "print(subject)\n",
    "\n",
    "# 엑셀파일로 저장\n",
    "subject.to_excel(\"C:\\py_test\\subject.xls\", index=False)\n",
    "# csv확장자로 저장\n",
    "subject.to_csv(\"C:\\py_test\\subject.csv\", encoding=\"utf-8-sig\", index=False)"
   ]
  },
  {
   "cell_type": "code",
   "execution_count": 15,
   "metadata": {},
   "outputs": [
    {
     "name": "stdout",
     "output_type": "stream",
     "text": [
      "    이름  Age      성별\n",
      "0  홍길동   22    male\n",
      "1  홍길순   32  female\n",
      "2  임꺽정   50    male\n",
      "0      male\n",
      "1    female\n",
      "2      male\n",
      "Name: 성별, dtype: object\n",
      "50\n",
      "22\n",
      "34.666666666666664\n"
     ]
    }
   ],
   "source": [
    "# 데이터 프레임은 파이썬의 리스트와 딕셔너리의 조합\n",
    "import pandas as pd\n",
    "df = pd.DataFrame({\"이름\":[\"홍길동\",\"홍길순\",\"임꺽정\"], \"Age\":[22,32,50], \"성별\":[\"male\", \"female\",\"male\"]})\n",
    "# 전체 구조 출력\n",
    "print(df)\n",
    "# 데이터 프레임에서 성별 컬럼만 출력\n",
    "print(df[\"성별\"])\n",
    "# 데이터 프레임에 고향컬럼 추가\n",
    "homes = pd.Series([\"조선\", \"대전\", \"서울\"], name = \"고향\")\n",
    "df[\"고향\"] = homes\n",
    "\n",
    "# 하나의 시리즈에 집계함수(평균, 최대값, 최소값)\n",
    "print(df[\"Age\"].max())  # 최대값 출력\n",
    "print(df[\"Age\"].min())  # 최소값 출력\n",
    "print(df[\"Age\"].mean())  # 평균값 출력\n",
    "\n"
   ]
  },
  {
   "cell_type": "code",
   "execution_count": 18,
   "metadata": {},
   "outputs": [
    {
     "name": "stdout",
     "output_type": "stream",
     "text": [
      "             Age\n",
      "count   3.000000\n",
      "mean   34.666667\n",
      "std    14.189198\n",
      "min    22.000000\n",
      "25%    27.000000\n",
      "50%    32.000000\n",
      "75%    41.000000\n",
      "max    50.000000\n",
      "    이름  Age      성별\n",
      "0  홍길동   22    male\n",
      "1  홍길순   32  female\n",
      "    이름  Age      성별\n",
      "1  홍길순   32  female\n",
      "2  임꺽정   50    male\n"
     ]
    }
   ],
   "source": [
    "# 데이터 프레임은 파이썬의 리스트와 딕셔너리의 조합\n",
    "import pandas as pd\n",
    "df = pd.DataFrame({\"이름\":[\"홍길동\",\"홍길순\",\"임꺽정\"], \"Age\":[22,32,50], \"성별\":[\"male\", \"female\",\"male\"]})\n",
    "# 데이터 프레임의 기본 통계 내용을 작성해서 보여줌\n",
    "print(df.describe())\n",
    "# head는 위에서부터 잘라온다.\n",
    "print(df.head(2))  # 위에서 2개 출력\n",
    "# tail은 밑에서부터 잘라온다.\n",
    "print(df.tail(2))  # 밑에서 2개 출력"
   ]
  },
  {
   "cell_type": "code",
   "execution_count": 37,
   "metadata": {},
   "outputs": [
    {
     "name": "stdout",
     "output_type": "stream",
     "text": [
      "   Unnamed: 0  order_no user_id user_pass name address product    price  brand\n",
      "0           0         1   user1     pass1  손흥민      런던     운동화   100000    나이키\n",
      "1           1         2   user2     pass2   설현      서울      코트   150000    버버리\n",
      "2           2         3   user3     pass3   원빈      대전     반바지    30000   유니클로\n",
      "3           3         4   user4     pass4  송혜교      대구     스커트    55000     자라\n",
      "4           4         5   user5     pass5  소지섭      부산      코트  1100000   알레그리\n",
      "5           5         6   user6     pass6  김지원      울산     티셔츠     9900   지오다노\n",
      "6           6         7   user6     pass6  김지원      울산     운동화   220000     텐디\n",
      "7           7         8   user1     pass1  손흥민      런던     스커트    30000  크로커다일\n",
      "8           8         9   user1     pass1  손흥민      런던      코트   580000    띠어리\n",
      "3\n",
      "0    운동화\n",
      "7    스커트\n",
      "8     코트\n",
      "Name: product, dtype: object\n",
      "3    송혜교\n",
      "7    손흥민\n",
      "Name: name, dtype: object\n",
      "user_id  name\n",
      "user1    손흥민     3\n",
      "user2    설현      1\n",
      "user3    원빈      1\n",
      "user4    송혜교     1\n",
      "user5    소지섭     1\n",
      "user6    김지원     2\n",
      "Name: order_no, dtype: int64\n",
      "  user_id name  count\n",
      "0   user1  손흥민      3\n",
      "5   user6  김지원      2\n",
      "1   user2   설현      1\n",
      "2   user3   원빈      1\n",
      "3   user4  송혜교      1\n",
      "4   user5  소지섭      1\n",
      "229900\n"
     ]
    }
   ],
   "source": [
    "import pandas as pd\n",
    "\n",
    "df = pd.read_excel(\"order.xlsx\")\n",
    "print(df)\n",
    "# 1. 손흥민의 주문 개수는?\n",
    "is_son = df[\"name\"] == \"손흥민\"\n",
    "print(df[is_son][\"order_no\"].count())\n",
    "# 2. 손흥민이 산 상품은?\n",
    "print(df[is_son][\"product\"])\n",
    "# 3. 스커트를 산 사람은?\n",
    "is_skirt = df[\"product\"]==\"스커트\"\n",
    "print(df[is_skirt][\"name\"])\n",
    "# 4. 가장 많이 주문한 사람의 아이디와 이름, 주문개수는? \n",
    "print(df.groupby([\"user_id\", \"name\"])[\"order_no\"].count())\n",
    "# 정렬\n",
    "newdf = df.groupby([\"user_id\", \"name\"])[\"order_no\"].count().reset_index(name = \"count\")\n",
    "newdf = newdf.sort_values(\"count\", ascending = False)\n",
    "print(newdf)\n",
    "# 5. 김지원이 사용한 총 금액은? \n",
    "is_kim = df[\"name\"]==\"김지원\"\n",
    "print(df[is_kim][\"price\"].sum())\n"
   ]
  },
  {
   "cell_type": "code",
   "execution_count": null,
   "metadata": {},
   "outputs": [],
   "source": []
  }
 ],
 "metadata": {
  "interpreter": {
   "hash": "485035c5b2a6f2b50dc2dc5ca51aeeb931032fbc9adc2e30c7c528d6bf8a9176"
  },
  "kernelspec": {
   "display_name": "Python 3.9.7 ('base')",
   "language": "python",
   "name": "python3"
  },
  "language_info": {
   "codemirror_mode": {
    "name": "ipython",
    "version": 3
   },
   "file_extension": ".py",
   "mimetype": "text/x-python",
   "name": "python",
   "nbconvert_exporter": "python",
   "pygments_lexer": "ipython3",
   "version": "3.9.7"
  },
  "orig_nbformat": 4
 },
 "nbformat": 4,
 "nbformat_minor": 2
}
