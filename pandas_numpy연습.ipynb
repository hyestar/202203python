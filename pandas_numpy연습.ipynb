{
 "cells": [
  {
   "cell_type": "code",
   "execution_count": 3,
   "metadata": {},
   "outputs": [
    {
     "name": "stdout",
     "output_type": "stream",
     "text": [
      "0    1.5\n",
      "1    3.0\n",
      "2    5.3\n",
      "3    7.2\n",
      "4    9.0\n",
      "dtype: float64\n",
      "a    1.5\n",
      "b    3.0\n",
      "c    5.3\n",
      "d    7.2\n",
      "e    9.0\n",
      "dtype: float64\n"
     ]
    }
   ],
   "source": [
    "# Pandas의 기본 객체 \n",
    "# series => 1차원 어레이, DataFrame => 2차원 어레이\n",
    "import pandas as pd\n",
    "s = pd.Series([1.5,3,5.3,7.2,9])\n",
    "print(s)\n"
   ]
  },
  {
   "cell_type": "code",
   "execution_count": 5,
   "metadata": {},
   "outputs": [
    {
     "name": "stdout",
     "output_type": "stream",
     "text": [
      "a    1.5\n",
      "b    3.0\n",
      "c    5.3\n",
      "d    7.2\n",
      "e    9.0\n",
      "dtype: float64\n"
     ]
    }
   ],
   "source": [
    "# 인덱스 지정\n",
    "import pandas as pd\n",
    "s = pd.Series([1.5,3,5.3,7.2,9], index=['a','b', 'c','d','e'])\n",
    "print(s)"
   ]
  },
  {
   "cell_type": "code",
   "execution_count": 9,
   "metadata": {},
   "outputs": [
    {
     "name": "stdout",
     "output_type": "stream",
     "text": [
      "[1 2 3]\n",
      "[0. 0. 0.]\n",
      "[[1. 1. 1.]\n",
      " [1. 1. 1.]]\n"
     ]
    }
   ],
   "source": [
    "import numpy as np\n",
    "a = np.array([1,2,3])\n",
    "print(a)\n",
    "\n",
    "# 0으로 채워진 어레이 만들기\n",
    "b = np.zeros(3)\n",
    "print(b)\n",
    "# 1로만 채워진 어레이 만들기\n",
    "c = np.ones((2,3))\n",
    "print(c)"
   ]
  },
  {
   "cell_type": "code",
   "execution_count": 13,
   "metadata": {},
   "outputs": [
    {
     "name": "stdout",
     "output_type": "stream",
     "text": [
      "[5. 5. 5. 5.]\n",
      "[4. 6. 6. 4.]\n",
      "2.5\n"
     ]
    }
   ],
   "source": [
    "import numpy as np\n",
    "a = np.array([1.,2.,3.,4.])\n",
    "b = np.array([4.,3.,2.,1.])\n",
    "# 요소별 합\n",
    "print(np.add(a,b))\n",
    "# 요소별 곱\n",
    "print(np.multiply(a,b))\n",
    "# 어레이 값의 평균\n",
    "print(np.mean(a))"
   ]
  },
  {
   "cell_type": "code",
   "execution_count": 15,
   "metadata": {},
   "outputs": [
    {
     "name": "stdout",
     "output_type": "stream",
     "text": [
      "[[0.52068407 0.99434676 0.60379027 0.12014538 0.6339095 ]\n",
      " [0.63677129 0.0980734  0.25915863 0.13811222 0.35052044]]\n",
      "[[ 0.74226064 -0.03906425  0.76164758  0.43634985 -2.92675092]\n",
      " [ 1.45698623  1.14897934  0.04667762  1.207224    0.32230687]]\n"
     ]
    }
   ],
   "source": [
    "import numpy as np\n",
    "# 0과 1범위에서 균일한 분포를 갖는 숫자들 샘플링\n",
    "a = np.random.rand(2,5)\n",
    "print(a)\n",
    "# 표준정규분포를 갖는 숫자들을 샘플링\n",
    "b = np.random.randn(2,5)\n",
    "print(b)"
   ]
  },
  {
   "cell_type": "code",
   "execution_count": 17,
   "metadata": {},
   "outputs": [
    {
     "name": "stdout",
     "output_type": "stream",
     "text": [
      "3.141592653589793\n",
      "2.718281828459045\n"
     ]
    }
   ],
   "source": [
    "import numpy as np\n",
    "# 파이\n",
    "a = np.pi\n",
    "print(a)\n",
    "# 오일러 상수\n",
    "b = np.e\n",
    "print(b)"
   ]
  },
  {
   "cell_type": "code",
   "execution_count": 21,
   "metadata": {},
   "outputs": [
    {
     "name": "stdout",
     "output_type": "stream",
     "text": [
      "<class 'numpy.ndarray'>\n",
      "[1.2 2.  3.  4. ]\n",
      "float64\n"
     ]
    }
   ],
   "source": [
    "import numpy as np\n",
    "a = np.array([1.2,2,3,4])\n",
    "print(type(a))\n",
    "print(a)\n",
    "print(a.dtype)"
   ]
  },
  {
   "cell_type": "code",
   "execution_count": 25,
   "metadata": {},
   "outputs": [
    {
     "name": "stdout",
     "output_type": "stream",
     "text": [
      "[[1.+0.j 3.+0.j 4.+0.j]\n",
      " [2.+0.j 3.+0.j 4.+0.j]\n",
      " [3.+0.j 5.+0.j 8.+0.j]]\n"
     ]
    }
   ],
   "source": [
    "import numpy as np\n",
    "a = np.array([(1,3,4),(2,3,4),(3,5,8)], dtype = complex)\n",
    "print(a)"
   ]
  },
  {
   "cell_type": "code",
   "execution_count": 28,
   "metadata": {},
   "outputs": [
    {
     "name": "stdout",
     "output_type": "stream",
     "text": [
      "   과목번호  과목명\n",
      "0     1   수학\n",
      "1     2   과학\n",
      "2     3  파이썬\n"
     ]
    },
    {
     "name": "stderr",
     "output_type": "stream",
     "text": [
      "C:\\Users\\ADMINI~1\\AppData\\Local\\Temp/ipykernel_5608/2613182555.py:13: FutureWarning: As the xlwt package is no longer maintained, the xlwt engine will be removed in a future version of pandas. This is the only engine in pandas that supports writing in the xls format. Install openpyxl and write to an xlsx file instead. You can set the option io.excel.xls.writer to 'xlwt' to silence this warning. While this option is deprecated and will also raise a warning, it can be globally set and the warning suppressed.\n",
      "  subject.to_excel(\"C:\\py_test\\subject.xls\", index=False)\n"
     ]
    }
   ],
   "source": [
    "import pandas as pd\n",
    "no = []\n",
    "sjname = ['수학','과학','파이썬']\n",
    "no.append(1)\n",
    "no.append(2)\n",
    "no.append(3)\n",
    "\n",
    "subject = pd.DataFrame()\n",
    "subject['과목번호']=no\n",
    "subject['과목명']=sjname\n",
    "print(subject)\n",
    "\n",
    "# 엑셀파일로 저장\n",
    "subject.to_excel(\"C:\\py_test\\subject.xls\", index=False)\n",
    "# csv확장자로 저장\n",
    "subject.to_csv(\"C:\\py_test\\subject.csv\", encoding=\"utf-8-sig\", index=False)"
   ]
  },
  {
   "cell_type": "code",
   "execution_count": null,
   "metadata": {},
   "outputs": [],
   "source": []
  }
 ],
 "metadata": {
  "interpreter": {
   "hash": "485035c5b2a6f2b50dc2dc5ca51aeeb931032fbc9adc2e30c7c528d6bf8a9176"
  },
  "kernelspec": {
   "display_name": "Python 3.9.7 ('base')",
   "language": "python",
   "name": "python3"
  },
  "language_info": {
   "codemirror_mode": {
    "name": "ipython",
    "version": 3
   },
   "file_extension": ".py",
   "mimetype": "text/x-python",
   "name": "python",
   "nbconvert_exporter": "python",
   "pygments_lexer": "ipython3",
   "version": "3.9.7"
  },
  "orig_nbformat": 4
 },
 "nbformat": 4,
 "nbformat_minor": 2
}
