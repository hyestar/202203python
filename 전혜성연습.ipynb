{
 "cells": [
  {
   "cell_type": "code",
   "execution_count": 1,
   "metadata": {},
   "outputs": [
    {
     "name": "stdout",
     "output_type": "stream",
     "text": [
      "123\n"
     ]
    }
   ],
   "source": [
    "print(123)"
   ]
  },
  {
   "cell_type": "code",
   "execution_count": 5,
   "metadata": {},
   "outputs": [
    {
     "name": "stdout",
     "output_type": "stream",
     "text": [
      "a\n"
     ]
    }
   ],
   "source": [
    "a='a'\n",
    "print(a)"
   ]
  },
  {
   "cell_type": "code",
   "execution_count": 28,
   "metadata": {},
   "outputs": [
    {
     "name": "stdout",
     "output_type": "stream",
     "text": [
      "전혜성\n",
      "{'고향': '대전', '나이': 30, '이름': '전혜성'}\n",
      "{'이름': '전혜성'}\n",
      "{'이름': '전뿅뿅'}\n",
      "{}\n",
      "30\n",
      "dict_keys(['고향', '나이', '이름'])\n"
     ]
    }
   ],
   "source": [
    "a = ['대전', '전혜성', 30]\n",
    "a1 = {\"고향\":\"대전\", \"나이\" : 30, \"이름\" : \"전혜성\"}\n",
    "print(a1[\"이름\"])\n",
    "a2 = []\n",
    "a3 = {}\n",
    "print(a1)\n",
    "a3[\"이름\"] = '전혜성'\n",
    "print(a3)\n",
    "a3[\"이름\"] = '전뿅뿅'\n",
    "print(a3)\n",
    "del(a3[\"이름\"])\n",
    "print(a3)\n",
    "print(a1[\"나이\"])\n",
    "print(a1.keys())\n"
   ]
  },
  {
   "cell_type": "code",
   "execution_count": 20,
   "metadata": {},
   "outputs": [
    {
     "name": "stdout",
     "output_type": "stream",
     "text": [
      "{'1월': 31, '2월': 28, '3월': 31}\n"
     ]
    }
   ],
   "source": [
    "# 문제 : 딕셔너리에 각 달의 마지막 날들을 한번에 담기\n",
    "# 조건 : 1월 ~ 3월까지\n",
    "# 조건 : 2월의 마지막은 28일로 함\n",
    "# 조건 : 첫 데이터의 key는 \"1월\", value는 31일\n",
    "\n",
    "eday = {\"1월\" : 31, \"2월\" : 28, \"3월\" : 31}\n",
    "print(eday)\n",
    "\n"
   ]
  },
  {
   "cell_type": "code",
   "execution_count": 22,
   "metadata": {},
   "outputs": [
    {
     "name": "stdout",
     "output_type": "stream",
     "text": [
      "{'1월': 31, '2월': 28, '3월': 31, '4월': 30, '5월': 31, '6월': 30, '7월': 31, '8월': 31, '9월': 30, '10월': 31, '11월': 30, '12월': 31}\n"
     ]
    }
   ],
   "source": [
    "# 문제 : 딕셔너리에 각 달의 마지막 날들을 반복문을 통해 담기\n",
    "md = {}\n",
    "for i in range(1, 12+1) :\n",
    "    m = str(i) + \"월\"\n",
    "    d = 31\n",
    "    if i == 2:\n",
    "        d = 28\n",
    "    elif i in [4,6,9,11]:\n",
    "        d = 30\n",
    "    md[m] = d\n",
    "print(md)\n"
   ]
  },
  {
   "cell_type": "code",
   "execution_count": 25,
   "metadata": {},
   "outputs": [
    {
     "name": "stdout",
     "output_type": "stream",
     "text": [
      "{'1월': 31, '2월': 28, '3월': 31, '4월': 30, '5월': 31, '6월': 30, '7월': 31, '8월': 31, '9월': 30, '10월': 31, '11월': 30, '12월': 31}\n"
     ]
    }
   ],
   "source": [
    "# 문제 : 딕셔너리에 각 달의 마지막 날들을 반복문을 통해 담기\n",
    "md = {}\n",
    "eday = [31,28,31,30,31,30,31,31,30,31,30,31]\n",
    "for i, d in enumerate(eday) :\n",
    "    m = str(i+1) + '월'\n",
    "    md[m]=d\n",
    "print(md)\n"
   ]
  },
  {
   "cell_type": "code",
   "execution_count": 29,
   "metadata": {},
   "outputs": [
    {
     "ename": "IndentationError",
     "evalue": "expected an indented block (Temp/ipykernel_3164/619997160.py, line 7)",
     "output_type": "error",
     "traceback": [
      "\u001b[1;36m  File \u001b[1;32m\"C:\\Users\\ADMINI~1\\AppData\\Local\\Temp/ipykernel_3164/619997160.py\"\u001b[1;36m, line \u001b[1;32m7\u001b[0m\n\u001b[1;33m    # print()\u001b[0m\n\u001b[1;37m             ^\u001b[0m\n\u001b[1;31mIndentationError\u001b[0m\u001b[1;31m:\u001b[0m expected an indented block\n"
     ]
    }
   ],
   "source": [
    "# 문제 : 딕셔너리에 각 달의 마지막 날들을 한번에 담고, keys()로 key 순회출력\n",
    "month_end_days = {}\n",
    "month_end_days[\"1월\"] = 31\n",
    "month_end_days[\"2월\"] = 28\n",
    "month_end_days[\"3월\"] = 31\n"
   ]
  },
  {
   "cell_type": "code",
   "execution_count": 1,
   "metadata": {},
   "outputs": [
    {
     "name": "stdout",
     "output_type": "stream",
     "text": [
      "1월은31까지 있습니다.\n",
      "2월은28까지 있습니다.\n",
      "3월은31까지 있습니다.\n"
     ]
    }
   ],
   "source": [
    "# 문제 : 딕셔너리에 각 달의 마지막 날들을 한번에 담고, keys()로 key, value 순회출력\n",
    "month_end_days = {}\n",
    "month_end_days[\"1월\"] = 31\n",
    "month_end_days[\"2월\"] = 28\n",
    "month_end_days[\"3월\"] = 31\n",
    "for m in month_end_days.keys():\n",
    "    d = month_end_days[m]\n",
    "    print(m+\"은\" +str(d)+\"까지 있습니다.\")"
   ]
  },
  {
   "cell_type": "code",
   "execution_count": 4,
   "metadata": {},
   "outputs": [
    {
     "name": "stdout",
     "output_type": "stream",
     "text": [
      "{'1월': 31, '2월': 28, '3월': 31, '4월': 30, '5월': 31, '6월': 30, '7월': 31, '8월': 31, '9월': 30, '10월': 31, '11월': 30, '12월': 31}\n",
      "1월 31\n",
      "2월 28\n",
      "3월 31\n",
      "4월 30\n",
      "5월 31\n",
      "6월 30\n",
      "7월 31\n",
      "8월 31\n",
      "9월 30\n",
      "10월 31\n",
      "11월 30\n",
      "12월 31\n"
     ]
    }
   ],
   "source": [
    "md = {}\n",
    "eday = [31,28,31,30,31,30,31,31,30,31,30,31]\n",
    "for i, d in enumerate(eday) :\n",
    "    m = str(i+1) + '월'\n",
    "    md[m]=d\n",
    "print(md)\n",
    "for d in md.keys():\n",
    "    print(d, md[d])"
   ]
  },
  {
   "cell_type": "code",
   "execution_count": 5,
   "metadata": {},
   "outputs": [
    {
     "name": "stdout",
     "output_type": "stream",
     "text": [
      "1월\n",
      "2월\n",
      "3월\n",
      "4월\n"
     ]
    }
   ],
   "source": [
    "m = {\"1월\":31, \"2월\":28}\n",
    "m[\"1월\"] = 31\n",
    "m[\"2월\"] = 28\n",
    "m[\"3월\"] = 31\n",
    "m[\"4월\"] = 30\n",
    "for d in m:\n",
    "  print(d)\n",
    "  "
   ]
  },
  {
   "cell_type": "code",
   "execution_count": 8,
   "metadata": {},
   "outputs": [
    {
     "name": "stdout",
     "output_type": "stream",
     "text": [
      "1월 31\n",
      "2월 28\n",
      "3월 31\n"
     ]
    }
   ],
   "source": [
    "month_end_days = {}\n",
    "month_end_days[\"1월\"] = 31\n",
    "month_end_days[\"2월\"] = 28\n",
    "month_end_days[\"3월\"] = 31\n",
    "for key, value in month_end_days.items():\n",
    "    print(key, value)"
   ]
  },
  {
   "cell_type": "code",
   "execution_count": 17,
   "metadata": {},
   "outputs": [
    {
     "name": "stdout",
     "output_type": "stream",
     "text": [
      "{'1월': 31, '2월': 28, '3월': 31}\n",
      "{'1월': 31, '2월': 28}\n",
      "{'1월': 31, '2월': 28, '3월': 31}\n",
      "{'1월': 31, '2월': 29, '3월': 31}\n"
     ]
    }
   ],
   "source": [
    "month_end_days = {}\n",
    "month_end_days[\"1월\"] = 31\n",
    "month_end_days[\"2월\"] = 28\n",
    "month_end_days[\"3월\"] = 31\n",
    "print(month_end_days)\n",
    "del month_end_days[\"3월\"]\n",
    "print(month_end_days)\n",
    "month_end_days[\"3월\"] = 31\n",
    "print(month_end_days)\n",
    "month_end_days[\"2월\"] = 29\n",
    "print(month_end_days)"
   ]
  },
  {
   "cell_type": "code",
   "execution_count": 23,
   "metadata": {},
   "outputs": [
    {
     "name": "stdout",
     "output_type": "stream",
     "text": [
      "{'1월': 31, '2월': 28, '3월': 31}\n",
      "{'2월': 29, '4월': 30, '5월': 31}\n",
      "{'1월': 31, '2월': 29, '3월': 31, '4월': 30, '5월': 31}\n"
     ]
    }
   ],
   "source": [
    "# 문제 : 딕셔너리에 각 달의 마지막 날들을 한번에 담고, update를 이용하여, \n",
    "# 2월을 29일로 수정하고 4월, 5월의 정보도 추가\n",
    "month_end_days = {}\n",
    "month_end_days[\"1월\"] = 31\n",
    "month_end_days[\"2월\"] = 28\n",
    "month_end_days[\"3월\"] = 31\n",
    "month_end_days2 = {\"2월\" : 29, \"4월\":30,\"5월\":31}\n",
    "print(month_end_days)\n",
    "print(month_end_days2)\n",
    "month_end_days.update(month_end_days2)\n",
    "print(month_end_days)"
   ]
  },
  {
   "cell_type": "code",
   "execution_count": 28,
   "metadata": {},
   "outputs": [
    {
     "name": "stdout",
     "output_type": "stream",
     "text": [
      "{'영수': 11, '영희': 12, '철수': 13, '민수': 14}\n",
      "{'영희': 12, '철수': 13, '민수': 14}\n",
      "{'영희': 12, '철수': 13, '민수': 14, '영수': 11}\n",
      "영희12살입니다.\n",
      "철수13살입니다.\n",
      "민수14살입니다.\n",
      "영수11살입니다.\n",
      "홍길동입니다.\n"
     ]
    }
   ],
   "source": [
    "ages = {\"영수\":11, \"영희\":12, \"철수\":13, \"민수\":14}\n",
    "print(ages)\n",
    "del ages[\"영수\"]\n",
    "print(ages)\n",
    "ages[\"영수\"] = 11\n",
    "print(ages)\n",
    "\n",
    "for name, age in ages.items():\n",
    "    print(name+str(age)+\"살입니다.\")\n",
    "\n",
    "print(\"홍길동\"+\"입니다.\")\n",
    "\n"
   ]
  },
  {
   "cell_type": "code",
   "execution_count": 30,
   "metadata": {},
   "outputs": [
    {
     "name": "stdout",
     "output_type": "stream",
     "text": [
      "자동차가 달립니다.\n",
      "자동차가 달립니다.\n",
      "자동차가 달립니다.\n",
      "자동차가 달립니다.\n",
      "자동차가 달립니다.\n",
      "자동차가 달립니다.\n"
     ]
    }
   ],
   "source": [
    "# 문제 : 자동차가 3번 달리게 해주세요.\n",
    "# 출력 : 자동차가 달립니다.\n",
    "class Car :\n",
    "  def drive(self):\n",
    "    print(\"자동차가 달립니다.\")\n",
    "# v1. 1개의 자동차가 3번 달리게 해주세요.\n",
    "c1 = Car()\n",
    "c1.drive()\n",
    "c1.drive()\n",
    "c1.drive()\n",
    "\n",
    "# v2. 3개의 자동차가 1번씩 달리게 해주세요.\n",
    "c2 = Car()\n",
    "c3 = Car()\n",
    "c1.drive()\n",
    "c2.drive()\n",
    "c3.drive()\n",
    "# 자동차가 달립니다.\n",
    "# 자동차가 달립니다.\n",
    "# 자동차가 달립니다.\n",
    "# 자동차가 달립니다.\n",
    "# 자동차가 달립니다.\n",
    "# 자동차가 달립니다."
   ]
  },
  {
   "cell_type": "code",
   "execution_count": 1,
   "metadata": {},
   "outputs": [
    {
     "name": "stdout",
     "output_type": "stream",
     "text": [
      "자동차가 최대속력 220km로 달립니다.\n",
      "자동차가 최대속력 250km로 달립니다.\n"
     ]
    }
   ],
   "source": [
    "# 문제 : 자동차 객체를 담을 변수를 만들어주세요.\n",
    "# 자동차 객체를 변수에 담고 그 변수를 이용해 최고속력이 서로 다르게 만들어주세요.\n",
    "class Car :\n",
    "    maxV = 0\n",
    "    def drive(self,maxV):\n",
    "        self.maxV+=maxV\n",
    "        print(\"자동차가 최대속력 {}km로 달립니다.\".format(self.maxV))\n",
    "# 각 자동차가 자신의 최고속력으로 달리게 해주세요.\n",
    "c1 = Car()\n",
    "c2 = Car()\n",
    "\n",
    "c1.drive(220)\n",
    "c2.drive(250)\n",
    "# 출력 : 자동차가 최대속력 220km로 달립니다.\n",
    "# 출력 : 자동차가 최대속력 250km로 달립니다."
   ]
  },
  {
   "cell_type": "code",
   "execution_count": 7,
   "metadata": {},
   "outputs": [
    {
     "name": "stdout",
     "output_type": "stream",
     "text": [
      "['c:\\\\py_test', 'C:\\\\Users\\\\Administrator\\\\anaconda3\\\\python39.zip', 'C:\\\\Users\\\\Administrator\\\\anaconda3\\\\DLLs', 'C:\\\\Users\\\\Administrator\\\\anaconda3\\\\lib', 'C:\\\\Users\\\\Administrator\\\\anaconda3', '', 'C:\\\\Users\\\\Administrator\\\\anaconda3\\\\lib\\\\site-packages', 'C:\\\\Users\\\\Administrator\\\\anaconda3\\\\lib\\\\site-packages\\\\locket-0.2.1-py3.9.egg', 'C:\\\\Users\\\\Administrator\\\\anaconda3\\\\lib\\\\site-packages\\\\win32', 'C:\\\\Users\\\\Administrator\\\\anaconda3\\\\lib\\\\site-packages\\\\win32\\\\lib', 'C:\\\\Users\\\\Administrator\\\\anaconda3\\\\lib\\\\site-packages\\\\Pythonwin', 'C:\\\\Users\\\\Administrator\\\\anaconda3\\\\lib\\\\site-packages\\\\IPython\\\\extensions', 'C:\\\\Users\\\\Administrator\\\\.ipython', 'C:\\\\Users\\\\Administrator\\\\AppData\\\\Roaming\\\\Python\\\\Python39\\\\site-packages', 'C:\\\\py_test\\x0cunc1', 'C:\\\\py_test\\x0cunc1', 'C:\\\\py_test\\x0cunc2', 'C:\\\\py_test\\x0cunc1', 'C:\\\\py_test\\x0cunc2', 'C:\\\\py_test\\\\ex', 'C:\\\\py_test\\x0cunc1', 'C:\\\\py_test\\x0cunc2', 'C:\\\\py_test\\\\ex', 'C:\\\\py_test\\x0cunc1', 'C:\\\\py_test\\x0cunc2', 'C:\\\\py_test\\\\ex']\n",
      "첫번째함수입니다.\n",
      "2번째 만들어본 함수입니다.\n",
      "2번함수입니다.\n"
     ]
    }
   ],
   "source": [
    "import sys\n",
    "print(sys.path)\n",
    "sys.path.append('C:\\py_test\\func1')\n",
    "import func1\n",
    "print(func1.func1())\n",
    "sys.path.append('C:\\py_test\\func2')\n",
    "import func2\n",
    "print(func2.func2())\n",
    "sys.path.append('C:\\py_test\\ex')\n",
    "from ex import f2, f3\n",
    "print(f2())\n",
    "\n",
    "import numpy\n"
   ]
  },
  {
   "cell_type": "code",
   "execution_count": 8,
   "metadata": {},
   "outputs": [
    {
     "name": "stdout",
     "output_type": "stream",
     "text": [
      "버림하기전 값 :  1.6666666666666667\n",
      "버림한 후 값 :  1\n"
     ]
    }
   ],
   "source": [
    "import math\n",
    "num1 = 3\n",
    "num2 = 5\n",
    "print(\"버림하기전 값 : \", num2 / num1)\n",
    "print(\"버림한 후 값 : \", math.trunc(num2/num1))"
   ]
  },
  {
   "cell_type": "code",
   "execution_count": 12,
   "metadata": {},
   "outputs": [
    {
     "name": "stdout",
     "output_type": "stream",
     "text": [
      "총 3페이지까지 갖고 있어야 볼수있습니다.\n"
     ]
    }
   ],
   "source": [
    "import math\n",
    "cnt = int(input(\"몇건의 데이터를 수집할까요? :\"))\n",
    "# 내가 수집한 데이터수가 12페이지 일때\n",
    "page_cnt = math.ceil(cnt/10)\n",
    "# 몇페이지까지 갖고 있어야 할지?\n",
    "print(\"총 %s페이지까지 갖고 있어야 볼수있습니다.\" %page_cnt)"
   ]
  },
  {
   "cell_type": "code",
   "execution_count": 15,
   "metadata": {},
   "outputs": [
    {
     "name": "stdout",
     "output_type": "stream",
     "text": [
      "9.8보다 작은 가까운 정수는 9입니다.\n",
      "5.9보다 작은 가까운 정수는 5입니다.\n"
     ]
    }
   ],
   "source": [
    "import math\n",
    "num1 = 9.8\n",
    "num2 = 5.9\n",
    "print(\"%s보다 작은 가까운 정수는 %s입니다.\"%(num1,math.floor(num1)))\n",
    "print(\"%s보다 작은 가까운 정수는 %s입니다.\"%(num2,math.floor(num2)))"
   ]
  },
  {
   "cell_type": "code",
   "execution_count": 18,
   "metadata": {},
   "outputs": [
    {
     "name": "stdout",
     "output_type": "stream",
     "text": [
      "12\n",
      "20\n",
      "3\n"
     ]
    }
   ],
   "source": [
    "import y\n",
    "print(y.plus(10,2))\n",
    "print(y.multiply(10,2))\n",
    "print(y.minus(5,2))"
   ]
  },
  {
   "cell_type": "code",
   "execution_count": 1,
   "metadata": {},
   "outputs": [
    {
     "name": "stdout",
     "output_type": "stream",
     "text": [
      "안녕하세요 23살 홍길동입니다.\n"
     ]
    }
   ],
   "source": [
    "import pp\n",
    "p1 = pp.Person(\"홍길동\", 23)\n",
    "p1.introduce()"
   ]
  },
  {
   "cell_type": "code",
   "execution_count": 13,
   "metadata": {},
   "outputs": [
    {
     "name": "stdout",
     "output_type": "stream",
     "text": [
      "C:\\py_test\n",
      ".git\n",
      "ex.py\n",
      "func1.py\n",
      "func2.py\n",
      "intro.py\n",
      "pp.py\n",
      "py_temptest\n",
      "y.py\n",
      "__pycache__\n",
      "전혜성연습.ipynb\n",
      "False\n"
     ]
    }
   ],
   "source": [
    "import os\n",
    "\n",
    "# os.makedirs('C:\\py_test\\py_temptest\\py_temptest2')\n",
    "\n",
    "os.chdir('C:\\py_test')\n",
    "print(os.getcwd())\n",
    "\n",
    "for i in os.listdir('C:\\py_test'):\n",
    "    print(i)\n",
    "print(os.path.exists('C:\\py_test\\py_temptest5'))\n",
    "\n",
    "# os.rmdir('C:\\py_test\\py_temptest\\py_temptest2')"
   ]
  },
  {
   "cell_type": "code",
   "execution_count": null,
   "metadata": {},
   "outputs": [],
   "source": []
  }
 ],
 "metadata": {
  "interpreter": {
   "hash": "485035c5b2a6f2b50dc2dc5ca51aeeb931032fbc9adc2e30c7c528d6bf8a9176"
  },
  "kernelspec": {
   "display_name": "Python 3.9.7 ('base')",
   "language": "python",
   "name": "python3"
  },
  "language_info": {
   "codemirror_mode": {
    "name": "ipython",
    "version": 3
   },
   "file_extension": ".py",
   "mimetype": "text/x-python",
   "name": "python",
   "nbconvert_exporter": "python",
   "pygments_lexer": "ipython3",
   "version": "3.9.7"
  },
  "orig_nbformat": 4
 },
 "nbformat": 4,
 "nbformat_minor": 2
}
